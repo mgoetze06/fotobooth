{
 "cells": [
  {
   "cell_type": "code",
   "execution_count": 1,
   "id": "b9f4cca4",
   "metadata": {},
   "outputs": [],
   "source": [
    "import os, glob"
   ]
  },
  {
   "cell_type": "code",
   "execution_count": 2,
   "id": "24566ba8",
   "metadata": {},
   "outputs": [
    {
     "name": "stdout",
     "output_type": "stream",
     "text": [
      "/home/boris/projects/fotobooth/webserver/images\n"
     ]
    }
   ],
   "source": [
    "directory = os.getcwd() + \"/images\"\n",
    "print(directory)"
   ]
  },
  {
   "cell_type": "code",
   "execution_count": 3,
   "id": "1103859f",
   "metadata": {},
   "outputs": [
    {
     "name": "stdout",
     "output_type": "stream",
     "text": [
      "/home/boris/projects/fotobooth/webserver/images\n",
      "folder:  img3\n",
      "files in folder:  1\n",
      "folder:  img1\n",
      "files in folder:  2\n",
      "folder:  img2\n",
      "files in folder:  4\n"
     ]
    }
   ],
   "source": [
    "print(directory)\n",
    "folders = os.listdir(directory)\n",
    "for d in folders:\n",
    "    print(\"folder: \",d)\n",
    "    count = len(glob.glob(directory+\"/\"+d+\"/*\"))\n",
    "    print(\"files in folder: \",count)"
   ]
  },
  {
   "cell_type": "code",
   "execution_count": 7,
   "id": "3ebc96bf",
   "metadata": {},
   "outputs": [
    {
     "name": "stderr",
     "output_type": "stream",
     "text": [
      "Warning: Ignoring XDG_SESSION_TYPE=wayland on Gnome. Use QT_QPA_PLATFORM=wayland to run on Wayland anyway.\n"
     ]
    },
    {
     "name": "stdout",
     "output_type": "stream",
     "text": [
      "I'm a new script\n",
      "2100\n",
      "2800\n",
      "3\n"
     ]
    },
    {
     "data": {
      "text/plain": [
       "0"
      ]
     },
     "execution_count": 7,
     "metadata": {},
     "output_type": "execute_result"
    }
   ],
   "source": [
    "cmd = os.path.join(os.getcwd(), \"script_to_run.py\")\n",
    "os.system('{} {}'.format('python3', cmd))"
   ]
  },
  {
   "cell_type": "code",
   "execution_count": 14,
   "id": "ad47f3c5-dce9-4ef7-83ef-e1ae5644c820",
   "metadata": {},
   "outputs": [],
   "source": [
    "def run_script(full_script_path,lang=\"python3\"):\n",
    "    #/home/boris/projects/fotobooth/script_to_run.py\n",
    "    #cmd = os.path.join(os.getcwd(), \"script_to_run.py\")\n",
    "    os.system('{} {}'.format(lang, full_script_path))"
   ]
  },
  {
   "cell_type": "code",
   "execution_count": 26,
   "id": "481c8283-ca14-4f61-8fa3-06d0cb880f9d",
   "metadata": {},
   "outputs": [
    {
     "name": "stderr",
     "output_type": "stream",
     "text": [
      "Warning: Ignoring XDG_SESSION_TYPE=wayland on Gnome. Use QT_QPA_PLATFORM=wayland to run on Wayland anyway.\n"
     ]
    },
    {
     "name": "stdout",
     "output_type": "stream",
     "text": [
      "I'm a new script\n",
      "2100\n",
      "2800\n",
      "3\n"
     ]
    }
   ],
   "source": [
    "run_script('/home/boris/projects/fotobooth/webserver/script_to_run.py')"
   ]
  },
  {
   "cell_type": "code",
   "execution_count": 28,
   "id": "94f6a0c9-ae76-4d18-9a5b-7780ec5180e7",
   "metadata": {},
   "outputs": [
    {
     "name": "stdout",
     "output_type": "stream",
     "text": [
      "  38189 pts/1    Sl+    0:01 python3 script_to_run.py\n",
      "  38205 pts/3    Ss+    0:00 /bin/bash -c ps ax | grep script_to_run.py\n",
      "  38207 pts/3    S+     0:00 grep script_to_run.py\n"
     ]
    }
   ],
   "source": [
    "!ps ax | grep script_to_run.py"
   ]
  },
  {
   "cell_type": "code",
   "execution_count": 23,
   "id": "904f452d-0273-4345-b96e-65dc2bf3c9d7",
   "metadata": {},
   "outputs": [
    {
     "name": "stdout",
     "output_type": "stream",
     "text": [
      "psutil.Process(pid=1, name='systemd', status='sleeping', started='19:35:23')\n",
      "psutil.Process(pid=2, name='kthreadd', status='sleeping', started='19:35:23')\n",
      "psutil.Process(pid=3, name='rcu_gp', status='idle', started='19:35:23')\n",
      "psutil.Process(pid=4, name='rcu_par_gp', status='idle', started='19:35:23')\n",
      "psutil.Process(pid=5, name='netns', status='idle', started='19:35:23')\n",
      "psutil.Process(pid=7, name='kworker/0:0H-events_highpri', status='idle', started='19:35:23')\n",
      "psutil.Process(pid=9, name='kworker/0:1H-kblockd', status='idle', started='19:35:23')\n",
      "psutil.Process(pid=10, name='mm_percpu_wq', status='idle', started='19:35:23')\n",
      "psutil.Process(pid=11, name='rcu_tasks_rude_', status='sleeping', started='19:35:23')\n",
      "psutil.Process(pid=12, name='rcu_tasks_trace', status='sleeping', started='19:35:23')\n",
      "psutil.Process(pid=13, name='ksoftirqd/0', status='sleeping', started='19:35:23')\n",
      "psutil.Process(pid=14, name='rcu_sched', status='idle', started='19:35:23')\n",
      "psutil.Process(pid=15, name='migration/0', status='sleeping', started='19:35:23')\n",
      "psutil.Process(pid=16, name='idle_inject/0', status='sleeping', started='19:35:23')\n",
      "psutil.Process(pid=18, name='cpuhp/0', status='sleeping', started='19:35:23')\n",
      "psutil.Process(pid=19, name='cpuhp/1', status='sleeping', started='19:35:23')\n",
      "psutil.Process(pid=20, name='idle_inject/1', status='sleeping', started='19:35:23')\n",
      "psutil.Process(pid=21, name='migration/1', status='sleeping', started='19:35:23')\n",
      "psutil.Process(pid=22, name='ksoftirqd/1', status='sleeping', started='19:35:23')\n",
      "psutil.Process(pid=24, name='kworker/1:0H-events_highpri', status='idle', started='19:35:23')\n",
      "psutil.Process(pid=25, name='cpuhp/2', status='sleeping', started='19:35:23')\n",
      "psutil.Process(pid=26, name='idle_inject/2', status='sleeping', started='19:35:23')\n",
      "psutil.Process(pid=27, name='migration/2', status='sleeping', started='19:35:23')\n",
      "psutil.Process(pid=28, name='ksoftirqd/2', status='sleeping', started='19:35:23')\n",
      "psutil.Process(pid=30, name='kworker/2:0H-events_highpri', status='idle', started='19:35:23')\n",
      "psutil.Process(pid=31, name='cpuhp/3', status='sleeping', started='19:35:23')\n",
      "psutil.Process(pid=32, name='idle_inject/3', status='sleeping', started='19:35:23')\n",
      "psutil.Process(pid=33, name='migration/3', status='sleeping', started='19:35:23')\n",
      "psutil.Process(pid=34, name='ksoftirqd/3', status='sleeping', started='19:35:23')\n",
      "psutil.Process(pid=36, name='kworker/3:0H-events_highpri', status='idle', started='19:35:23')\n",
      "psutil.Process(pid=37, name='cpuhp/4', status='sleeping', started='19:35:23')\n",
      "psutil.Process(pid=38, name='idle_inject/4', status='sleeping', started='19:35:23')\n",
      "psutil.Process(pid=39, name='migration/4', status='sleeping', started='19:35:23')\n",
      "psutil.Process(pid=40, name='ksoftirqd/4', status='sleeping', started='19:35:23')\n",
      "psutil.Process(pid=42, name='kworker/4:0H-events_highpri', status='idle', started='19:35:23')\n",
      "psutil.Process(pid=43, name='cpuhp/5', status='sleeping', started='19:35:23')\n",
      "psutil.Process(pid=44, name='idle_inject/5', status='sleeping', started='19:35:23')\n",
      "psutil.Process(pid=45, name='migration/5', status='sleeping', started='19:35:23')\n",
      "psutil.Process(pid=46, name='ksoftirqd/5', status='sleeping', started='19:35:23')\n",
      "psutil.Process(pid=48, name='kworker/5:0H-events_highpri', status='idle', started='19:35:23')\n",
      "psutil.Process(pid=49, name='cpuhp/6', status='sleeping', started='19:35:23')\n",
      "psutil.Process(pid=50, name='idle_inject/6', status='sleeping', started='19:35:23')\n",
      "psutil.Process(pid=51, name='migration/6', status='sleeping', started='19:35:23')\n",
      "psutil.Process(pid=52, name='ksoftirqd/6', status='sleeping', started='19:35:23')\n",
      "psutil.Process(pid=54, name='kworker/6:0H-events_highpri', status='idle', started='19:35:23')\n",
      "psutil.Process(pid=55, name='cpuhp/7', status='sleeping', started='19:35:23')\n",
      "psutil.Process(pid=56, name='idle_inject/7', status='sleeping', started='19:35:23')\n",
      "psutil.Process(pid=57, name='migration/7', status='sleeping', started='19:35:23')\n",
      "psutil.Process(pid=58, name='ksoftirqd/7', status='sleeping', started='19:35:23')\n",
      "psutil.Process(pid=60, name='kworker/7:0H-kblockd', status='idle', started='19:35:23')\n",
      "psutil.Process(pid=61, name='kdevtmpfs', status='sleeping', started='19:35:23')\n",
      "psutil.Process(pid=62, name='inet_frag_wq', status='idle', started='19:35:23')\n",
      "psutil.Process(pid=63, name='kauditd', status='sleeping', started='19:35:23')\n",
      "psutil.Process(pid=64, name='khungtaskd', status='sleeping', started='19:35:23')\n",
      "psutil.Process(pid=65, name='oom_reaper', status='sleeping', started='19:35:23')\n",
      "psutil.Process(pid=66, name='writeback', status='idle', started='19:35:23')\n",
      "psutil.Process(pid=67, name='kcompactd0', status='sleeping', started='19:35:23')\n",
      "psutil.Process(pid=68, name='ksmd', status='sleeping', started='19:35:23')\n",
      "psutil.Process(pid=69, name='khugepaged', status='sleeping', started='19:35:23')\n",
      "psutil.Process(pid=116, name='kintegrityd', status='idle', started='19:35:23')\n",
      "psutil.Process(pid=117, name='kblockd', status='idle', started='19:35:23')\n",
      "psutil.Process(pid=118, name='blkcg_punt_bio', status='idle', started='19:35:23')\n",
      "psutil.Process(pid=119, name='tpm_dev_wq', status='idle', started='19:35:23')\n",
      "psutil.Process(pid=120, name='ata_sff', status='idle', started='19:35:23')\n",
      "psutil.Process(pid=121, name='md', status='idle', started='19:35:23')\n",
      "psutil.Process(pid=122, name='edac-poller', status='idle', started='19:35:23')\n",
      "psutil.Process(pid=123, name='devfreq_wq', status='idle', started='19:35:23')\n",
      "psutil.Process(pid=124, name='watchdogd', status='sleeping', started='19:35:23')\n",
      "psutil.Process(pid=128, name='kswapd0', status='sleeping', started='19:35:23')\n",
      "psutil.Process(pid=129, name='ecryptfs-kthrea', status='sleeping', started='19:35:23')\n",
      "psutil.Process(pid=131, name='kthrotld', status='idle', started='19:35:23')\n",
      "psutil.Process(pid=133, name='acpi_thermal_pm', status='idle', started='19:35:23')\n",
      "psutil.Process(pid=135, name='scsi_eh_0', status='sleeping', started='19:35:23')\n",
      "psutil.Process(pid=136, name='scsi_tmf_0', status='idle', started='19:35:23')\n",
      "psutil.Process(pid=137, name='scsi_eh_1', status='sleeping', started='19:35:23')\n",
      "psutil.Process(pid=138, name='scsi_tmf_1', status='idle', started='19:35:23')\n",
      "psutil.Process(pid=140, name='vfio-irqfd-clea', status='idle', started='19:35:23')\n",
      "psutil.Process(pid=144, name='kworker/5:1H-events_highpri', status='idle', started='19:35:23')\n",
      "psutil.Process(pid=145, name='kworker/6:1H-events_highpri', status='idle', started='19:35:23')\n",
      "psutil.Process(pid=146, name='mld', status='idle', started='19:35:23')\n",
      "psutil.Process(pid=147, name='ipv6_addrconf', status='idle', started='19:35:23')\n",
      "psutil.Process(pid=148, name='kworker/2:1H-events_highpri', status='idle', started='19:35:23')\n",
      "psutil.Process(pid=151, name='kworker/3:1H-kblockd', status='idle', started='19:35:23')\n",
      "psutil.Process(pid=160, name='kstrp', status='idle', started='19:35:23')\n",
      "psutil.Process(pid=164, name='zswap-shrink', status='idle', started='19:35:23')\n",
      "psutil.Process(pid=165, name='kworker/u17:0', status='idle', started='19:35:23')\n",
      "psutil.Process(pid=170, name='charger_manager', status='idle', started='19:35:23')\n",
      "psutil.Process(pid=172, name='kworker/4:1H-kblockd', status='idle', started='19:35:23')\n",
      "psutil.Process(pid=233, name='scsi_eh_2', status='sleeping', started='19:35:23')\n",
      "psutil.Process(pid=234, name='scsi_tmf_2', status='idle', started='19:35:23')\n",
      "psutil.Process(pid=237, name='kworker/1:1H-events_highpri', status='idle', started='19:35:24')\n",
      "psutil.Process(pid=259, name='kworker/7:1H-events_highpri', status='idle', started='19:35:24')\n",
      "psutil.Process(pid=260, name='jbd2/sda3-8', status='disk-sleep', started='19:35:24')\n",
      "psutil.Process(pid=261, name='ext4-rsv-conver', status='idle', started='19:35:24')\n",
      "psutil.Process(pid=302, name='systemd-journald', status='sleeping', started='19:35:24')\n",
      "psutil.Process(pid=352, name='systemd-udevd', status='sleeping', started='19:35:24')\n",
      "psutil.Process(pid=353, name='ipmi-msghandler', status='idle', started='19:35:24')\n",
      "psutil.Process(pid=391, name='iprt-VBoxWQueue', status='idle', started='19:35:24')\n",
      "psutil.Process(pid=436, name='cryptd', status='idle', started='19:35:24')\n",
      "psutil.Process(pid=439, name='ttm_swap', status='idle', started='19:35:24')\n",
      "psutil.Process(pid=440, name='irq/18-vmwgfx', status='sleeping', started='19:35:24')\n",
      "psutil.Process(pid=441, name='card0-crtc0', status='sleeping', started='19:35:24')\n",
      "psutil.Process(pid=442, name='card0-crtc1', status='sleeping', started='19:35:24')\n",
      "psutil.Process(pid=443, name='card0-crtc2', status='sleeping', started='19:35:24')\n",
      "psutil.Process(pid=444, name='card0-crtc3', status='sleeping', started='19:35:24')\n",
      "psutil.Process(pid=445, name='card0-crtc4', status='sleeping', started='19:35:24')\n",
      "psutil.Process(pid=446, name='card0-crtc5', status='sleeping', started='19:35:24')\n",
      "psutil.Process(pid=447, name='card0-crtc6', status='sleeping', started='19:35:24')\n",
      "psutil.Process(pid=448, name='card0-crtc7', status='sleeping', started='19:35:24')\n",
      "psutil.Process(pid=568, name='systemd-oomd', status='sleeping', started='19:35:25')\n",
      "psutil.Process(pid=571, name='systemd-resolved', status='sleeping', started='19:35:25')\n",
      "psutil.Process(pid=727, name='accounts-daemon', status='sleeping', started='19:35:25')\n",
      "psutil.Process(pid=728, name='acpid', status='sleeping', started='19:35:25')\n",
      "psutil.Process(pid=731, name='avahi-daemon', status='sleeping', started='19:35:25')\n",
      "psutil.Process(pid=732, name='cron', status='sleeping', started='19:35:25')\n",
      "psutil.Process(pid=733, name='dbus-daemon', status='sleeping', started='19:35:25')\n",
      "psutil.Process(pid=734, name='NetworkManager', status='sleeping', started='19:35:25')\n",
      "psutil.Process(pid=741, name='irqbalance', status='sleeping', started='19:35:25')\n",
      "psutil.Process(pid=742, name='networkd-dispat', status='sleeping', started='19:35:25')\n",
      "psutil.Process(pid=743, name='polkitd', status='sleeping', started='19:35:25')\n",
      "psutil.Process(pid=744, name='power-profiles-daemon', status='sleeping', started='19:35:25')\n",
      "psutil.Process(pid=745, name='rsyslogd', status='sleeping', started='19:35:25')\n",
      "psutil.Process(pid=748, name='switcheroo-control', status='sleeping', started='19:35:25')\n",
      "psutil.Process(pid=749, name='systemd-logind', status='sleeping', started='19:35:25')\n",
      "psutil.Process(pid=751, name='udisksd', status='sleeping', started='19:35:25')\n",
      "psutil.Process(pid=753, name='wpa_supplicant', status='sleeping', started='19:35:25')\n",
      "psutil.Process(pid=755, name='avahi-daemon', status='sleeping', started='19:35:25')\n",
      "psutil.Process(pid=864, name='cupsd', status='sleeping', started='19:35:25')\n",
      "psutil.Process(pid=867, name='unattended-upgr', status='sleeping', started='19:35:25')\n",
      "psutil.Process(pid=878, name='ModemManager', status='sleeping', started='19:35:25')\n",
      "psutil.Process(pid=1002, name='VBoxService', status='sleeping', started='19:35:25')\n",
      "psutil.Process(pid=1014, name='gdm3', status='sleeping', started='19:35:25')\n",
      "psutil.Process(pid=1025, name='gdm-session-worker', status='sleeping', started='19:35:25')\n",
      "psutil.Process(pid=1030, name='systemd', status='sleeping', started='19:35:25')\n",
      "psutil.Process(pid=1031, name='(sd-pam)', status='sleeping', started='19:35:25')\n",
      "psutil.Process(pid=1037, name='pipewire', status='sleeping', started='19:35:25')\n",
      "psutil.Process(pid=1038, name='pipewire-media-session', status='sleeping', started='19:35:25')\n",
      "psutil.Process(pid=1039, name='pulseaudio', status='sleeping', started='19:35:25')\n",
      "psutil.Process(pid=1040, name='snapd-desktop-integration', status='sleeping', started='19:35:25')\n",
      "psutil.Process(pid=1044, name='gnome-keyring-daemon', status='sleeping', started='19:35:25')\n",
      "psutil.Process(pid=1051, name='rtkit-daemon', status='sleeping', started='19:35:25')\n",
      "psutil.Process(pid=1059, name='gdm-wayland-session', status='sleeping', started='19:35:25')\n",
      "psutil.Process(pid=1064, name='dbus-daemon', status='sleeping', started='19:35:25')\n",
      "psutil.Process(pid=1073, name='gnome-session-binary', status='sleeping', started='19:35:25')\n",
      "psutil.Process(pid=1075, name='gvfsd', status='sleeping', started='19:35:25')\n",
      "psutil.Process(pid=1097, name='gvfsd-fuse', status='sleeping', started='19:35:25')\n",
      "psutil.Process(pid=1128, name='gnome-session-ctl', status='sleeping', started='19:35:25')\n",
      "psutil.Process(pid=1140, name='gnome-session-binary', status='sleeping', started='19:35:25')\n",
      "psutil.Process(pid=1155, name='at-spi-bus-launcher', status='sleeping', started='19:35:26')\n",
      "psutil.Process(pid=1157, name='gnome-shell', status='sleeping', started='19:35:26')\n",
      "psutil.Process(pid=1168, name='dbus-daemon', status='sleeping', started='19:35:26')\n",
      "psutil.Process(pid=1260, name='xdg-permission-store', status='sleeping', started='19:35:26')\n",
      "psutil.Process(pid=1262, name='gnome-shell-calendar-server', status='sleeping', started='19:35:26')\n",
      "psutil.Process(pid=1279, name='evolution-source-registry', status='sleeping', started='19:35:26')\n",
      "psutil.Process(pid=1289, name='upowerd', status='sleeping', started='19:35:26')\n",
      "psutil.Process(pid=1291, name='xdg-document-portal', status='sleeping', started='19:35:26')\n",
      "psutil.Process(pid=1296, name='fusermount3', status='sleeping', started='19:35:26')\n",
      "psutil.Process(pid=1307, name='goa-daemon', status='sleeping', started='19:35:26')\n",
      "psutil.Process(pid=1311, name='dconf-service', status='sleeping', started='19:35:26')\n",
      "psutil.Process(pid=1316, name='evolution-calendar-factory', status='sleeping', started='19:35:26')\n",
      "psutil.Process(pid=1318, name='gvfs-udisks2-volume-monitor', status='sleeping', started='19:35:26')\n",
      "psutil.Process(pid=1329, name='goa-identity-service', status='sleeping', started='19:35:26')\n",
      "psutil.Process(pid=1336, name='gvfs-goa-volume-monitor', status='sleeping', started='19:35:26')\n",
      "psutil.Process(pid=1351, name='gvfs-afc-volume-monitor', status='sleeping', started='19:35:26')\n",
      "psutil.Process(pid=1356, name='gvfs-gphoto2-volume-monitor', status='sleeping', started='19:35:26')\n",
      "psutil.Process(pid=1364, name='evolution-addressbook-factory', status='sleeping', started='19:35:26')\n",
      "psutil.Process(pid=1367, name='gvfs-mtp-volume-monitor', status='sleeping', started='19:35:26')\n",
      "psutil.Process(pid=1379, name='packagekitd', status='sleeping', started='19:35:26')\n",
      "psutil.Process(pid=1390, name='gvfsd-trash', status='sleeping', started='19:35:27')\n",
      "psutil.Process(pid=1408, name='gjs', status='sleeping', started='19:35:27')\n",
      "psutil.Process(pid=1410, name='at-spi2-registryd', status='sleeping', started='19:35:27')\n",
      "psutil.Process(pid=1426, name='sh', status='sleeping', started='19:35:27')\n",
      "psutil.Process(pid=1427, name='gsd-a11y-settings', status='sleeping', started='19:35:27')\n",
      "psutil.Process(pid=1429, name='gsd-color', status='sleeping', started='19:35:27')\n",
      "psutil.Process(pid=1430, name='ibus-daemon', status='sleeping', started='19:35:27')\n",
      "psutil.Process(pid=1432, name='gsd-datetime', status='sleeping', started='19:35:27')\n",
      "psutil.Process(pid=1433, name='gsd-housekeeping', status='sleeping', started='19:35:27')\n",
      "psutil.Process(pid=1435, name='gsd-keyboard', status='sleeping', started='19:35:27')\n",
      "psutil.Process(pid=1436, name='gsd-media-keys', status='sleeping', started='19:35:27')\n",
      "psutil.Process(pid=1437, name='gsd-power', status='sleeping', started='19:35:27')\n",
      "psutil.Process(pid=1438, name='gsd-print-notifications', status='sleeping', started='19:35:27')\n",
      "psutil.Process(pid=1441, name='gsd-rfkill', status='sleeping', started='19:35:27')\n",
      "psutil.Process(pid=1447, name='gsd-screensaver-proxy', status='sleeping', started='19:35:27')\n",
      "psutil.Process(pid=1448, name='gsd-sharing', status='sleeping', started='19:35:27')\n",
      "psutil.Process(pid=1449, name='gsd-smartcard', status='sleeping', started='19:35:27')\n",
      "psutil.Process(pid=1451, name='gsd-sound', status='sleeping', started='19:35:27')\n",
      "psutil.Process(pid=1452, name='gsd-wacom', status='sleeping', started='19:35:27')\n",
      "psutil.Process(pid=1514, name='gsd-disk-utility-notify', status='sleeping', started='19:35:27')\n",
      "psutil.Process(pid=1517, name='ibus-memconf', status='sleeping', started='19:35:27')\n",
      "psutil.Process(pid=1522, name='ibus-extension-gtk3', status='sleeping', started='19:35:27')\n",
      "psutil.Process(pid=1524, name='evolution-alarm-notify', status='sleeping', started='19:35:27')\n",
      "psutil.Process(pid=1549, name='ibus-portal', status='sleeping', started='19:35:27')\n",
      "psutil.Process(pid=1553, name='VBoxClient', status='sleeping', started='19:35:27')\n",
      "psutil.Process(pid=1555, name='VBoxClient', status='sleeping', started='19:35:27')\n",
      "psutil.Process(pid=1579, name='VBoxClient', status='sleeping', started='19:35:27')\n",
      "psutil.Process(pid=1580, name='VBoxClient', status='sleeping', started='19:35:27')\n",
      "psutil.Process(pid=1589, name='VBoxClient', status='sleeping', started='19:35:27')\n",
      "psutil.Process(pid=1590, name='VBoxClient', status='sleeping', started='19:35:27')\n",
      "psutil.Process(pid=1596, name='VBoxClient', status='sleeping', started='19:35:27')\n",
      "psutil.Process(pid=1597, name='VBoxDRMClient', status='sleeping', started='19:35:27')\n",
      "psutil.Process(pid=1616, name='snap-store', status='sleeping', started='19:35:27')\n",
      "psutil.Process(pid=1646, name='Xwayland', status='sleeping', started='19:35:27')\n",
      "psutil.Process(pid=1661, name='ibus-engine-simple', status='sleeping', started='19:35:27')\n",
      "psutil.Process(pid=1710, name='gsd-printer', status='sleeping', started='19:35:27')\n",
      "psutil.Process(pid=1732, name='cups-browsed', status='sleeping', started='19:35:27')\n",
      "psutil.Process(pid=1735, name='kerneloops', status='sleeping', started='19:35:27')\n",
      "psutil.Process(pid=1738, name='kerneloops', status='sleeping', started='19:35:27')\n",
      "psutil.Process(pid=1814, name='colord', status='sleeping', started='19:35:27')\n",
      "psutil.Process(pid=1815, name='xdg-desktop-portal', status='sleeping', started='19:35:27')\n",
      "psutil.Process(pid=1825, name='tracker-miner-fs-3', status='sleeping', started='19:35:27')\n",
      "psutil.Process(pid=1832, name='xdg-desktop-portal-gnome', status='sleeping', started='19:35:27')\n",
      "psutil.Process(pid=1859, name='gjs', status='sleeping', started='19:35:27')\n",
      "psutil.Process(pid=1872, name='gsd-xsettings', status='sleeping', started='19:35:28')\n",
      "psutil.Process(pid=1875, name='gjs', status='sleeping', started='19:35:28')\n",
      "psutil.Process(pid=1914, name='xdg-desktop-portal-gtk', status='sleeping', started='19:35:28')\n",
      "psutil.Process(pid=1928, name='ibus-x11', status='sleeping', started='19:35:28')\n",
      "psutil.Process(pid=1986, name='gvfsd-metadata', status='sleeping', started='19:35:28')\n",
      "psutil.Process(pid=1993, name='fwupd', status='sleeping', started='19:35:28')\n",
      "psutil.Process(pid=2580, name='firefox', status='sleeping', started='19:36:09')\n",
      "psutil.Process(pid=2754, name='Socket Process', status='sleeping', started='19:36:10')\n",
      "psutil.Process(pid=2782, name='Privileged Cont', status='sleeping', started='19:36:10')\n",
      "psutil.Process(pid=2822, name='snap', status='sleeping', started='19:36:10')\n",
      "psutil.Process(pid=3089, name='WebExtensions', status='sleeping', started='19:36:11')\n",
      "psutil.Process(pid=3207, name='RDD Process', status='sleeping', started='19:36:11')\n",
      "psutil.Process(pid=3209, name='Utility Process', status='sleeping', started='19:36:11')\n",
      "psutil.Process(pid=3485, name='update-notifier', status='sleeping', started='19:36:27')\n",
      "psutil.Process(pid=27140, name='snapd', status='sleeping', started='19:38:46')\n",
      "psutil.Process(pid=29170, name='Isolated Web Co', status='sleeping', started='19:39:32')\n",
      "psutil.Process(pid=29210, name='Isolated Web Co', status='sleeping', started='19:39:42')\n",
      "psutil.Process(pid=29348, name='Isolated Web Co', status='sleeping', started='19:40:48')\n",
      "psutil.Process(pid=30200, name='Isolated Web Co', status='sleeping', started='19:55:25')\n",
      "psutil.Process(pid=30399, name='Isolated Web Co', status='sleeping', started='20:02:01')\n",
      "psutil.Process(pid=32810, name='kworker/6:1-events', status='idle', started='20:19:32')\n",
      "psutil.Process(pid=33198, name='nautilus', status='sleeping', started='20:21:43')\n",
      "psutil.Process(pid=33227, name='kworker/u16:3-ext4-rsv-conversion', status='idle', started='20:21:46')\n",
      "psutil.Process(pid=33376, name='Isolated Web Co', status='sleeping', started='20:22:46')\n",
      "psutil.Process(pid=34365, name='kworker/0:1-events', status='idle', started='20:23:28')\n",
      "psutil.Process(pid=35480, name='kworker/5:0-events', status='idle', started='20:28:30')\n",
      "psutil.Process(pid=35753, name='kworker/3:2-events', status='idle', started='20:37:16')\n",
      "psutil.Process(pid=35757, name='kworker/1:1-events', status='idle', started='20:38:38')\n",
      "psutil.Process(pid=35836, name='kworker/u16:1-events_unbound', status='idle', started='20:47:51')\n",
      "psutil.Process(pid=35877, name='kworker/u16:2-ext4-rsv-conversion', status='idle', started='20:48:07')\n",
      "psutil.Process(pid=36010, name='gvfsd-http', status='sleeping', started='20:48:12')\n",
      "psutil.Process(pid=36111, name='kworker/7:1-mm_percpu_wq', status='idle', started='20:48:13')\n",
      "psutil.Process(pid=36213, name='kworker/2:0-events', status='idle', started='20:48:14')\n",
      "psutil.Process(pid=36593, name='gnome-terminal-server', status='sleeping', started='20:51:08')\n",
      "psutil.Process(pid=36611, name='bash', status='sleeping', started='20:51:08')\n",
      "psutil.Process(pid=36638, name='jupyter-noteboo', status='sleeping', started='20:52:35')\n",
      "psutil.Process(pid=36914, name='python3', status='sleeping', started='20:52:42')\n",
      "psutil.Process(pid=36937, name='kworker/4:2-events', status='idle', started='20:54:29')\n",
      "psutil.Process(pid=36940, name='kworker/7:2-events', status='idle', started='20:54:35')\n",
      "psutil.Process(pid=37035, name='Isolated Web Co', status='running', started='20:55:23')\n",
      "psutil.Process(pid=37096, name='kworker/2:1-events', status='idle', started='20:55:30')\n",
      "psutil.Process(pid=37112, name='Isolated Web Co', status='sleeping', started='20:55:31')\n",
      "psutil.Process(pid=37310, name='bash', status='sleeping', started='20:58:11')\n",
      "psutil.Process(pid=37401, name='kworker/1:0-events', status='idle', started='20:59:08')\n",
      "psutil.Process(pid=37528, name='bash', status='sleeping', started='20:59:43')\n",
      "psutil.Process(pid=37535, name='jupyter-lab', status='sleeping', started='20:59:47')\n",
      "psutil.Process(pid=37775, name='kworker/5:2-events', status='idle', started='20:59:49')\n",
      "psutil.Process(pid=37789, name='kworker/6:0-events', status='idle', started='20:59:49')\n",
      "psutil.Process(pid=37791, name='Web Content', status='sleeping', started='20:59:50')\n",
      "psutil.Process(pid=37820, name='python3', status='running', started='20:59:55')\n",
      "psutil.Process(pid=37892, name='kworker/3:0-events', status='idle', started='21:02:52')\n",
      "psutil.Process(pid=37949, name='Web Content', status='sleeping', started='21:05:13')\n",
      "psutil.Process(pid=37976, name='kworker/0:2', status='idle', started='21:05:42')\n",
      "psutil.Process(pid=37977, name='kworker/4:1-mm_percpu_wq', status='idle', started='21:05:42')\n",
      "psutil.Process(pid=38007, name='kworker/2:2-events', status='idle', started='21:07:34')\n",
      "psutil.Process(pid=38047, name='Web Content', status='sleeping', started='21:08:08')\n",
      "psutil.Process(pid=38113, name='python3', status='sleeping', started='21:08:46')\n"
     ]
    }
   ],
   "source": [
    "import psutil\n",
    "import sys\n",
    "from subprocess import Popen\n",
    "\n",
    "for process in psutil.process_iter():\n",
    "    print(process)\n",
    "\n",
    "    if process.cmdline() == ['python3', '/home/boris/projects/fotobooth/webserver/script_to_run.py']:\n",
    "        sys.exit('Process found: exiting.')\n",
    "\n",
    "#print('Process not found: starting it.')\n",
    "#Popen(['python', 'your_script.py'])"
   ]
  },
  {
   "cell_type": "code",
   "execution_count": null,
   "id": "a5cbc72b-d502-4b4c-8162-97374d953f1b",
   "metadata": {},
   "outputs": [],
   "source": [
    "def ensure_script(lang=\"python3\"):\n",
    "    "
   ]
  }
 ],
 "metadata": {
  "kernelspec": {
   "display_name": "Python 3 (ipykernel)",
   "language": "python",
   "name": "python3"
  },
  "language_info": {
   "codemirror_mode": {
    "name": "ipython",
    "version": 3
   },
   "file_extension": ".py",
   "mimetype": "text/x-python",
   "name": "python",
   "nbconvert_exporter": "python",
   "pygments_lexer": "ipython3",
   "version": "3.10.6"
  }
 },
 "nbformat": 4,
 "nbformat_minor": 5
}
