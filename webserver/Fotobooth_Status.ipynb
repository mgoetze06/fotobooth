{
 "cells": [
  {
   "cell_type": "code",
   "execution_count": 13,
   "id": "b9f4cca4",
   "metadata": {},
   "outputs": [],
   "source": [
    "import os, glob"
   ]
  },
  {
   "cell_type": "code",
   "execution_count": 14,
   "id": "24566ba8",
   "metadata": {},
   "outputs": [
    {
     "name": "stdout",
     "output_type": "stream",
     "text": [
      "/home/boris/projects/fotobooth/webserver/images\n"
     ]
    }
   ],
   "source": [
    "directory = os.getcwd() + \"/images\"\n",
    "print(directory)"
   ]
  },
  {
   "cell_type": "code",
   "execution_count": 22,
   "id": "1103859f",
   "metadata": {},
   "outputs": [
    {
     "name": "stdout",
     "output_type": "stream",
     "text": [
      "/home/boris/projects/fotobooth/webserver/images\n",
      "folder:  img3\n",
      "files in folder:  1\n",
      "folder:  img1\n",
      "files in folder:  2\n",
      "folder:  img2\n",
      "files in folder:  4\n"
     ]
    }
   ],
   "source": [
    "print(directory)\n",
    "folders = os.listdir(directory)\n",
    "for d in folders:\n",
    "    print(\"folder: \",d)\n",
    "    count = len(glob.glob(directory+\"/\"+d+\"/*\"))\n",
    "    print(\"files in folder: \",count)"
   ]
  },
  {
   "cell_type": "code",
   "execution_count": null,
   "id": "3ebc96bf",
   "metadata": {},
   "outputs": [],
   "source": []
  }
 ],
 "metadata": {
  "kernelspec": {
   "display_name": "Python 3 (ipykernel)",
   "language": "python",
   "name": "python3"
  },
  "language_info": {
   "codemirror_mode": {
    "name": "ipython",
    "version": 3
   },
   "file_extension": ".py",
   "mimetype": "text/x-python",
   "name": "python",
   "nbconvert_exporter": "python",
   "pygments_lexer": "ipython3",
   "version": "3.10.6"
  }
 },
 "nbformat": 4,
 "nbformat_minor": 5
}
