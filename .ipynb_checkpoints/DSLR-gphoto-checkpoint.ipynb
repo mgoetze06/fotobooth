{
 "cells": [
  {
   "cell_type": "markdown",
   "id": "634bc7e0",
   "metadata": {},
   "source": [
    "# Interact with DSLR Camera"
   ]
  },
  {
   "cell_type": "code",
   "execution_count": null,
   "id": "3ae60be5",
   "metadata": {},
   "outputs": [],
   "source": [
    "#sudo apt get install gphoto2\n",
    "\n",
    "!ps aux | grep gphoto\n",
    "\n",
    "!pkill -f gphoto2\n",
    "\n",
    "!gphoto2 --auto-detect"
   ]
  },
  {
   "cell_type": "code",
   "execution_count": null,
   "id": "6ad666a7",
   "metadata": {},
   "outputs": [],
   "source": [
    "!lsusb"
   ]
  },
  {
   "cell_type": "code",
   "execution_count": null,
   "id": "b0868da3",
   "metadata": {},
   "outputs": [],
   "source": [
    "import gphoto2 as gp\n",
    "\n",
    "camera = gp.Camera()\n",
    "camera.init()\n",
    "text = camera.get_summary()\n",
    "print('Summary')\n",
    "print('=======')\n",
    "print(str(text))\n",
    "camera.exit()\n",
    "!ps aux | grep gphoto\n",
    "\n",
    "#!systemctl stop gvfs-gphoto2-volume-monitor\n",
    "#jupyter-notebook --ip IP --port PORT\n",
    "\n",
    "\n",
    "!pkill -f gphoto2\n",
    "\n",
    "!gphoto2 --auto-detect\n",
    "\n",
    "!lsusb\n",
    "\n",
    "import gphoto2 as gp\n",
    "\n",
    "camera = gp.Camera()\n",
    "#camera.init()\n",
    "camera.wait_for_event(100)\n",
    "camera.get_config()\n",
    "text = camera.get_summary()\n",
    "print('Summary')\n",
    "print('=======')\n",
    "print(str(text))\n",
    "camera.exit()\n",
    "\n",
    "\n",
    "\n",
    "camera = gp.check_result(gp.gp_camera_new())\n",
    "gp.check_result(gp.gp_camera_init(camera))\n",
    "text = gp.check_result(gp.gp_camera_get_summary(camera))\n",
    "print('Summary')\n",
    "print('=======')\n",
    "print(text.text)\n",
    "#gp.check_result(gp.gp_camera_exit(camera))\n",
    "\n",
    "camera_file = gp.check_result(gp.gp_camera_capture_preview(camera))\n",
    "file_data = gp.check_result(gp.gp_file_get_data_and_size(camera_file))\n",
    "\n",
    "data = memoryview(file_data)\n",
    "\n",
    "print(type(data), len(data))\n",
    "\n",
    "print(data[:10].tolist())\n",
    "\n",
    "gp.check_result(gp.gp_camera_exit(camera))\n",
    "\n"
   ]
  }
 ],
 "metadata": {
  "kernelspec": {
   "display_name": "Python 3 (ipykernel)",
   "language": "python",
   "name": "python3"
  },
  "language_info": {
   "codemirror_mode": {
    "name": "ipython",
    "version": 3
   },
   "file_extension": ".py",
   "mimetype": "text/x-python",
   "name": "python",
   "nbconvert_exporter": "python",
   "pygments_lexer": "ipython3",
   "version": "3.10.1"
  }
 },
 "nbformat": 4,
 "nbformat_minor": 5
}
