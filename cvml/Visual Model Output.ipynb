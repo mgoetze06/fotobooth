{
 "cells": [
  {
   "cell_type": "code",
   "execution_count": 1,
   "id": "956d39f1",
   "metadata": {
    "ExecuteTime": {
     "end_time": "2022-09-21T12:48:11.357037Z",
     "start_time": "2022-09-21T12:48:09.414324Z"
    }
   },
   "outputs": [],
   "source": [
    "import numpy as np\n",
    "import matplotlib.pyplot as plt\n",
    "from math import exp\n",
    "%matplotlib inline"
   ]
  },
  {
   "cell_type": "code",
   "execution_count": 9,
   "id": "12ef514b",
   "metadata": {
    "ExecuteTime": {
     "end_time": "2022-09-12T13:16:12.837332Z",
     "start_time": "2022-09-12T13:16:12.829336Z"
    }
   },
   "outputs": [
    {
     "ename": "SyntaxError",
     "evalue": "invalid syntax. Perhaps you forgot a comma? (166400196.py, line 1)",
     "output_type": "error",
     "traceback": [
      "\u001b[1;36m  Input \u001b[1;32mIn [9]\u001b[1;36m\u001b[0m\n\u001b[1;33m    data = [1.7807948*exp(-17),2.4532876*exp(-18),1.6148797*exp(-36),1.0000000e+00,6.3063395*exp(-25)\u001b[0m\n\u001b[1;37m                                                                                   ^\u001b[0m\n\u001b[1;31mSyntaxError\u001b[0m\u001b[1;31m:\u001b[0m invalid syntax. Perhaps you forgot a comma?\n"
     ]
    }
   ],
   "source": [
    "data = [1.7807948*exp(-17),2.4532876*exp(-18),1.6148797*exp(-36),1.0000000e+00,6.3063395*exp(-25)\n",
    " 3.3798886*exp(-10),9.3052172*exp(-12),2.5230745*exp(-11),2.8392962*exp(-30),5.4424173*exp(-19)]"
   ]
  },
  {
   "cell_type": "code",
   "execution_count": 20,
   "id": "f990233d",
   "metadata": {
    "ExecuteTime": {
     "end_time": "2022-09-12T13:20:24.946012Z",
     "start_time": "2022-09-12T13:20:24.931022Z"
    }
   },
   "outputs": [
    {
     "data": {
      "text/plain": [
       "0.0"
      ]
     },
     "execution_count": 20,
     "metadata": {},
     "output_type": "execute_result"
    }
   ],
   "source": [
    "round(1.7807948e-17,10)"
   ]
  },
  {
   "cell_type": "code",
   "execution_count": 28,
   "id": "d7230e73",
   "metadata": {
    "ExecuteTime": {
     "end_time": "2022-09-12T13:26:08.105404Z",
     "start_time": "2022-09-12T13:26:08.097408Z"
    }
   },
   "outputs": [],
   "source": [
    "data = [1.7807948e-17,2.4532876e-18,1.6148797e-36,1.0000000e+00,6.3063395e-25,3.3798886e-10,9.3052172e-12,2.5230745e-11,2.8392962e-30,5.4424173e-19]"
   ]
  },
  {
   "cell_type": "code",
   "execution_count": 27,
   "id": "a21ae419",
   "metadata": {
    "ExecuteTime": {
     "end_time": "2022-09-12T13:26:05.967557Z",
     "start_time": "2022-09-12T13:26:05.960561Z"
    }
   },
   "outputs": [],
   "source": [
    "data = [7.7814699e-10,7.5151381e-13,9.9997532e-01,3.6257322e-10,9.7140737e-06,8.6560731e-25,3.7508152e-09,9.5054147e-19,1.5008922e-05,4.9424895e-09]"
   ]
  },
  {
   "cell_type": "code",
   "execution_count": 26,
   "id": "76554a29",
   "metadata": {
    "ExecuteTime": {
     "end_time": "2022-09-21T15:03:23.829259Z",
     "start_time": "2022-09-21T15:03:23.789733Z"
    }
   },
   "outputs": [],
   "source": [
    "data = [8.4186394e-11,4.4593843e-08,9.9179101e-01,1.5490401e-05,8.1145493e-03,5.0158845e-24,5.6884353e-10,5.1266944e-15,3.2065313e-07,7.8715981e-05]"
   ]
  },
  {
   "cell_type": "code",
   "execution_count": 27,
   "id": "5208b4ab",
   "metadata": {
    "ExecuteTime": {
     "end_time": "2022-09-21T15:03:25.592209Z",
     "start_time": "2022-09-21T15:03:25.580213Z"
    }
   },
   "outputs": [],
   "source": [
    "names = ['okay', 'peace', 'thumbs up', 'thumbs down', 'call me', 'stop', 'rock', 'live long', 'fist', 'smile']"
   ]
  },
  {
   "cell_type": "code",
   "execution_count": 28,
   "id": "a0fb7c07",
   "metadata": {
    "ExecuteTime": {
     "end_time": "2022-09-21T15:03:27.740075Z",
     "start_time": "2022-09-21T15:03:27.732077Z"
    }
   },
   "outputs": [
    {
     "name": "stdout",
     "output_type": "stream",
     "text": [
      "8.4186394e-11\n",
      "okay\n",
      "4.4593843e-08\n",
      "peace\n",
      "0.99179101\n",
      "thumbs up\n",
      "1.5490401e-05\n",
      "thumbs down\n",
      "0.0081145493\n",
      "call me\n",
      "5.0158845e-24\n",
      "stop\n",
      "5.6884353e-10\n",
      "rock\n",
      "5.1266944e-15\n",
      "live long\n",
      "3.2065313e-07\n",
      "fist\n",
      "7.8715981e-05\n",
      "smile\n"
     ]
    }
   ],
   "source": [
    "for index,value in enumerate(data):\n",
    "    print(value)\n",
    "    print(names[index])"
   ]
  },
  {
   "cell_type": "code",
   "execution_count": 33,
   "id": "2e347680",
   "metadata": {
    "ExecuteTime": {
     "end_time": "2022-09-21T15:07:26.028002Z",
     "start_time": "2022-09-21T15:07:25.715133Z"
    }
   },
   "outputs": [
    {
     "data": {
      "image/png": "[encoded data removed]",
      "text/plain": [
       "<Figure size 432x288 with 1 Axes>"
      ]
     },
     "metadata": {
      "needs_background": "light"
     },
     "output_type": "display_data"
    }
   ],
   "source": [
    "fig = plt.figure()\n",
    "\n",
    "ax = fig.add_axes([0,0,1,1])\n",
    "#langs = ['C', 'C++', 'Java', 'Python', 'PHP']\n",
    "#students = [23,17,35,29,12]\n",
    "ax.bar(names,data,log=True)\n",
    "plt.xticks(rotation=90, ha='right')\n",
    "plt.show()"
   ]
  },
  {
   "cell_type": "code",
   "execution_count": 24,
   "id": "6d3244a0",
   "metadata": {
    "ExecuteTime": {
     "end_time": "2022-09-21T13:08:58.699455Z",
     "start_time": "2022-09-21T13:08:58.667463Z"
    }
   },
   "outputs": [
    {
     "name": "stdout",
     "output_type": "stream",
     "text": [
      "no array found\n",
      "[['detectiontime [s]' 'filename' 'number of detected hands'\n",
      "  'predicted label' 'label prob' 'true label']\n",
      " ['0.221' 'thumbs up_test10.JPG' '1' 'thumbs up' '0.9999' 'thumbs up']\n",
      " ['0.223' 'thumbs up_test7.JPG' '1' 'thumbs up' '1.0' 'thumbs up']\n",
      " ['0.221' 'thumbs up_test20.JPG' '1' 'thumbs up' '0.9963' 'thumbs up']\n",
      " ['0.217' 'thumbs up_test28.JPG' '1' 'thumbs up' '0.8464' 'thumbs up']\n",
      " ['0.22' 'thumbs up_test5.JPG' '1' 'thumbs up' '1.0' 'thumbs up']\n",
      " ['0.223' 'thumbs up_test22.JPG' '1' 'thumbs up' '0.9701' 'thumbs up']\n",
      " ['0.217' 'thumbs up_test29.JPG' '1' 'thumbs up' '0.9706' 'thumbs up']\n",
      " ['0.218' 'thumbs up_test18.JPG' '1' 'thumbs up' '0.9876' 'thumbs up']\n",
      " ['0.223' 'thumbs up_test0.JPG' '1' 'thumbs up' '1.0' 'thumbs up']\n",
      " ['0.222' 'thumbs down_test20.JPG' '1' 'thumbs down' '1.0' 'thumbs down']\n",
      " ['0.252' 'thumbs down_test15.JPG' '1' 'thumbs down' '1.0' 'thumbs down']\n",
      " ['0.225' 'thumbs down_test5.JPG' '1' 'thumbs down' '1.0' 'thumbs down']\n",
      " ['0.223' 'thumbs down_test16.JPG' '1' 'thumbs down' '1.0' 'thumbs down']\n",
      " ['0.226' 'thumbs down_test14.JPG' '1' 'thumbs down' '1.0' 'thumbs down']\n",
      " ['0.222' 'thumbs down_test6.JPG' '1' 'thumbs down' '1.0' 'thumbs down']\n",
      " ['0.223' 'thumbs down_test18.JPG' '1' 'thumbs down' '1.0' 'thumbs down']\n",
      " ['0.228' 'thumbs down_test26.JPG' '1' 'thumbs down' '1.0' 'thumbs down']\n",
      " ['0.222' 'thumbs down_test27.JPG' '1' 'thumbs down' '1.0' 'thumbs down']\n",
      " ['0.242' 'thumbs down_test0.JPG' '1' 'thumbs down' '1.0' 'thumbs down']\n",
      " ['0.225' 'thumbs down_test29.JPG' '1' 'thumbs down' '1.0' 'thumbs down']\n",
      " ['detectiontime [s]' 'filename' 'number of detected hands'\n",
      "  'predicted label' 'label prob' 'true label']\n",
      " ['0.226' 'thumbs up_test15.JPG' '1' 'call me' '0.9034' 'thumbs up']\n",
      " ['0.222' 'thumbs up_test6.JPG' '1' 'fist' '0.9557' 'thumbs up']\n",
      " ['0.227' 'thumbs down_test2.JPG' '1' 'thumbs down' '1.0' 'thumbs down']\n",
      " ['0.222' 'thumbs up_test4.JPG' '1' 'thumbs up' '1.0' 'thumbs up']\n",
      " ['0.226' 'thumbs down_test19.JPG' '1' 'thumbs down' '1.0' 'thumbs down']\n",
      " ['0.223' 'thumbs up_test19.JPG' '1' 'thumbs up' '0.9952' 'thumbs up']\n",
      " ['0.226' 'thumbs down_test7.JPG' '1' 'thumbs down' '1.0' 'thumbs down']\n",
      " ['0.227' 'thumbs down_test17.JPG' '1' 'thumbs down' '1.0' 'thumbs down']\n",
      " ['0.22' 'thumbs down_test21.JPG' '1' 'thumbs down' '1.0' 'thumbs down']\n",
      " ['0.224' 'thumbs up_test12.JPG' '1' 'thumbs up' '1.0' 'thumbs up']\n",
      " ['0.224' 'thumbs up_test16.JPG' '1' 'call me' '0.9996' 'thumbs up']\n",
      " ['0.231' 'thumbs up_test3.JPG' '1' 'thumbs up' '0.5774' 'thumbs up']\n",
      " ['0.221' 'thumbs up_test21.JPG' '1' 'thumbs up' '0.9994' 'thumbs up']\n",
      " ['0.225' 'thumbs up_test25.JPG' '1' 'thumbs up' '0.9974' 'thumbs up']\n",
      " ['0.225' 'thumbs up_test11.JPG' '1' 'thumbs up' '1.0' 'thumbs up']\n",
      " ['0.223' 'thumbs down_test10.JPG' '1' 'thumbs down' '1.0' 'thumbs down']\n",
      " ['0.222' 'thumbs down_test25.JPG' '1' 'thumbs down' '1.0' 'thumbs down']\n",
      " ['0.216' 'thumbs up_test26.JPG' '1' 'thumbs up' '0.9999' 'thumbs up']\n",
      " ['0.225' 'thumbs up_test17.JPG' '1' 'fist' '0.6696' 'thumbs up']\n",
      " ['0.228' 'thumbs up_test8.JPG' '1' 'thumbs down' '1.0' 'thumbs up']\n",
      " ['0.226' 'thumbs down_test12.JPG' '1' 'thumbs down' '0.8887'\n",
      "  'thumbs down']\n",
      " ['0.226' 'thumbs up_test2.JPG' '1' 'thumbs up' '1.0' 'thumbs up']\n",
      " ['0.223' 'thumbs up_test27.JPG' '1' 'thumbs up' '0.9999' 'thumbs up']\n",
      " ['0.228' 'thumbs up_test24.JPG' '1' 'thumbs up' '0.9675' 'thumbs up']\n",
      " ['0.222' 'thumbs up_test9.JPG' '1' 'thumbs up' '1.0' 'thumbs up']\n",
      " ['0.223' 'thumbs down_test23.JPG' '1' 'thumbs down' '1.0' 'thumbs down']\n",
      " ['0.234' 'thumbs down_test13.JPG' '1' 'thumbs down' '1.0' 'thumbs down']\n",
      " ['0.23' 'thumbs down_test11.JPG' '1' 'thumbs down' '1.0' 'thumbs down']\n",
      " ['0.227' 'thumbs down_test3.JPG' '1' 'thumbs down' '1.0' 'thumbs down']\n",
      " ['detectiontime [s]' 'filename' 'number of detected hands'\n",
      "  'predicted label' 'label prob' 'true label']\n",
      " ['0.22' 'thumbs up_test13.JPG' '1' 'fist' '0.9183' 'thumbs up']\n",
      " ['0.223' 'thumbs up_test23.JPG' '1' 'thumbs up' '0.9998' 'thumbs up']\n",
      " ['0.217' 'thumbs up_test1.JPG' '1' 'thumbs up' '1.0' 'thumbs up']\n",
      " ['0.221' 'thumbs down_test24.JPG' '1' 'thumbs down' '1.0' 'thumbs down']\n",
      " ['0.218' 'thumbs down_test28.JPG' '1' 'thumbs down' '1.0' 'thumbs down']]\n",
      "unique predictions:\n",
      "{'call me': 2, 'fist': 3, 'thumbs down': 26, 'thumbs up': 23}\n",
      "unique true labels:\n",
      "{'thumbs down': 25, 'thumbs up': 29}\n",
      "Accuracy: 0.8888888888888888\n",
      "[[ 0  0  0  0]\n",
      " [ 0  0  0  0]\n",
      " [ 0  0 25  0]\n",
      " [ 2  3  1 23]]\n",
      "              precision    recall  f1-score   support\n",
      "\n",
      "     call me       0.00      0.00      0.00         0\n",
      "        fist       0.00      0.00      0.00         0\n",
      " thumbs down       0.96      1.00      0.98        25\n",
      "   thumbs up       1.00      0.79      0.88        29\n",
      "\n",
      "    accuracy                           0.89        54\n",
      "   macro avg       0.49      0.45      0.47        54\n",
      "weighted avg       0.98      0.89      0.93        54\n",
      "\n",
      "0.22433333333333338\n",
      "average fps:  4.458\n"
     ]
    },
    {
     "name": "stderr",
     "output_type": "stream",
     "text": [
      "C:\\python\\lib\\site-packages\\sklearn\\metrics\\_classification.py:1334: UndefinedMetricWarning: Recall and F-score are ill-defined and being set to 0.0 in labels with no true samples. Use `zero_division` parameter to control this behavior.\n",
      "  _warn_prf(average, modifier, msg_start, len(result))\n",
      "C:\\python\\lib\\site-packages\\sklearn\\metrics\\_classification.py:1334: UndefinedMetricWarning: Recall and F-score are ill-defined and being set to 0.0 in labels with no true samples. Use `zero_division` parameter to control this behavior.\n",
      "  _warn_prf(average, modifier, msg_start, len(result))\n",
      "C:\\python\\lib\\site-packages\\sklearn\\metrics\\_classification.py:1334: UndefinedMetricWarning: Recall and F-score are ill-defined and being set to 0.0 in labels with no true samples. Use `zero_division` parameter to control this behavior.\n",
      "  _warn_prf(average, modifier, msg_start, len(result))\n"
     ]
    }
   ],
   "source": [
    "import numpy as np\n",
    "import os.path\n",
    "from sklearn import metrics\n",
    "\n",
    "if not os.path.exists('test.npy'):\n",
    "    print(\"no array found\")\n",
    "    exit\n",
    "\n",
    "with open('C:/projects/fotobooth/cvml/pi_metrics_test/pi_metrics_hands1_conf0_4_allclasses_with_zoom.npy', 'rb') as f:\n",
    "#with open('C:/Users/Maurice/Desktop/statichandsTrue_thresh-1_validation.npy', 'rb') as f:\n",
    "    a = np.load(f)\n",
    "print(a)\n",
    "labels = []\n",
    "pred = []\n",
    "prob = []\n",
    "file = []\n",
    "time = []\n",
    "for row in a:\n",
    "    if not row[0] == \"detectiontime [s]\":\n",
    "        time.append(float(row[0]))\n",
    "        file.append(row[1])\n",
    "        pred.append(row[3])\n",
    "        prob.append(row[4])\n",
    "        labels.append(row[5])\n",
    "#labels = a[:][0]\n",
    "#print(labels)\n",
    "#print(pred)\n",
    "#print(prob)\n",
    "#print(file)\n",
    "#print(time)\n",
    "\n",
    "#conditions = [(labels =='okay'),\n",
    "#              (labels =='peac'),\n",
    "#              (labels =='RECOVERING')]\n",
    "#choices = [int(1), int(0), int(2)]\n",
    "#data['operation'] = np.select(conditions, choices, default=0)\n",
    "print(\"unique predictions:\")\n",
    "unique1, counts = np.unique(pred, return_counts=True)\n",
    "print(dict(zip(unique1, counts)))\n",
    "print(\"unique true labels:\")\n",
    "unique, counts = np.unique(labels, return_counts=True)\n",
    "print(dict(zip(unique, counts)))\n",
    "print(\"Accuracy:\",metrics.accuracy_score(labels, pred))\n",
    "print(metrics.confusion_matrix(labels, pred))\n",
    "print(metrics.classification_report(labels, pred))\n",
    "\n",
    "print(np.mean(time))\n",
    "print(\"average fps: \",round(1/np.mean(time),3))"
   ]
  },
  {
   "cell_type": "code",
   "execution_count": 25,
   "id": "f5961146",
   "metadata": {
    "ExecuteTime": {
     "end_time": "2022-09-21T13:09:06.069028Z",
     "start_time": "2022-09-21T13:09:05.865069Z"
    }
   },
   "outputs": [
    {
     "data": {
      "text/plain": [
       "<Figure size 1800x1800 with 0 Axes>"
      ]
     },
     "metadata": {},
     "output_type": "display_data"
    },
    {
     "data": {
      "image/png": "[encoded data removed]",
      "text/plain": [
       "<Figure size 432x288 with 2 Axes>"
      ]
     },
     "metadata": {
      "needs_background": "light"
     },
     "output_type": "display_data"
    }
   ],
   "source": [
    "cm = metrics.confusion_matrix(labels, pred)\n",
    "disp = metrics.ConfusionMatrixDisplay(confusion_matrix=cm,display_labels=unique1)\n",
    "plt.figure(figsize=(12, 12), dpi=150)\n",
    "disp.plot(cmap=\"YlGnBu\")\n",
    "plt.xticks(rotation=45, ha='right')\n",
    "plt.show()"
   ]
  },
  {
   "cell_type": "code",
   "execution_count": 35,
   "id": "9efa7586",
   "metadata": {
    "ExecuteTime": {
     "end_time": "2022-09-21T15:48:09.922944Z",
     "start_time": "2022-09-21T15:48:09.898951Z"
    }
   },
   "outputs": [],
   "source": [
    "#https://stackoverflow.com/questions/28200786/how-to-plot-scikit-learn-classification-report\n",
    "def show_values(pc, fmt=\"%.2f\", **kw):\n",
    "    '''\n",
    "    Heatmap with text in each cell with matplotlib's pyplot\n",
    "    Source: https://stackoverflow.com/a/25074150/395857 \n",
    "    By HYRY\n",
    "    '''\n",
    "    from itertools import izip\n",
    "    pc.update_scalarmappable()\n",
    "    ax = pc.get_axes()\n",
    "    #ax = pc.axes# FOR LATEST MATPLOTLIB\n",
    "    #Use zip BELOW IN PYTHON 3\n",
    "    for p, color, value in izip(pc.get_paths(), pc.get_facecolors(), pc.get_array()):\n",
    "        x, y = p.vertices[:-2, :].mean(0)\n",
    "        if np.all(color[:3] > 0.5):\n",
    "            color = (0.0, 0.0, 0.0)\n",
    "        else:\n",
    "            color = (1.0, 1.0, 1.0)\n",
    "        ax.text(x, y, fmt % value, ha=\"center\", va=\"center\", color=color, **kw)\n",
    "\n",
    "\n",
    "def cm2inch(*tupl):\n",
    "    '''\n",
    "    Specify figure size in centimeter in matplotlib\n",
    "    Source: https://stackoverflow.com/a/22787457/395857\n",
    "    By gns-ank\n",
    "    '''\n",
    "    inch = 2.54\n",
    "    if type(tupl[0]) == tuple:\n",
    "        return tuple(i/inch for i in tupl[0])\n",
    "    else:\n",
    "        return tuple(i/inch for i in tupl)\n",
    "\n",
    "\n",
    "def heatmap(AUC, title, xlabel, ylabel, xticklabels, yticklabels, figure_width=40, figure_height=20, correct_orientation=False, cmap='RdBu'):\n",
    "    '''\n",
    "    Inspired by:\n",
    "    - https://stackoverflow.com/a/16124677/395857 \n",
    "    - https://stackoverflow.com/a/25074150/395857\n",
    "    '''\n",
    "\n",
    "    # Plot it out\n",
    "    fig, ax = plt.subplots()    \n",
    "    #c = ax.pcolor(AUC, edgecolors='k', linestyle= 'dashed', linewidths=0.2, cmap='RdBu', vmin=0.0, vmax=1.0)\n",
    "    c = ax.pcolor(AUC, edgecolors='k', linestyle= 'dashed', linewidths=0.2, cmap=cmap)\n",
    "\n",
    "    # put the major ticks at the middle of each cell\n",
    "    ax.set_yticks(np.arange(AUC.shape[0]) + 0.5, minor=False)\n",
    "    ax.set_xticks(np.arange(AUC.shape[1]) + 0.5, minor=False)\n",
    "\n",
    "    # set tick labels\n",
    "    #ax.set_xticklabels(np.arange(1,AUC.shape[1]+1), minor=False)\n",
    "    ax.set_xticklabels(xticklabels, minor=False)\n",
    "    ax.set_yticklabels(yticklabels, minor=False)\n",
    "\n",
    "    # set title and x/y labels\n",
    "    plt.title(title)\n",
    "    plt.xlabel(xlabel)\n",
    "    plt.ylabel(ylabel)      \n",
    "\n",
    "    # Remove last blank column\n",
    "    plt.xlim( (0, AUC.shape[1]) )\n",
    "\n",
    "    # Turn off all the ticks\n",
    "    ax = plt.gca()    \n",
    "    for t in ax.xaxis.get_major_ticks():\n",
    "        t.tick1On = False\n",
    "        t.tick2On = False\n",
    "    for t in ax.yaxis.get_major_ticks():\n",
    "        t.tick1On = False\n",
    "        t.tick2On = False\n",
    "\n",
    "    # Add color bar\n",
    "    plt.colorbar(c)\n",
    "\n",
    "    # Add text in each cell \n",
    "    show_values(c)\n",
    "\n",
    "    # Proper orientation (origin at the top left instead of bottom left)\n",
    "    if correct_orientation:\n",
    "        ax.invert_yaxis()\n",
    "        ax.xaxis.tick_top()       \n",
    "\n",
    "    # resize \n",
    "    fig = plt.gcf()\n",
    "    #fig.set_size_inches(cm2inch(40, 20))\n",
    "    #fig.set_size_inches(cm2inch(40*4, 20*4))\n",
    "    fig.set_size_inches(cm2inch(figure_width, figure_height))\n",
    "\n",
    "\n",
    "\n",
    "def plot_classification_report(classification_report, title='Classification report ', cmap='YlGnBu'):\n",
    "    '''\n",
    "    Plot scikit-learn classification report.\n",
    "    Extension based on https://stackoverflow.com/a/31689645/395857 \n",
    "    '''\n",
    "    lines = classification_report.split('\\n')\n",
    "\n",
    "    classes = []\n",
    "    plotMat = []\n",
    "    support = []\n",
    "    class_names = []\n",
    "    for line in lines[2 : (len(lines) - 2)]:\n",
    "        t = line.strip().split()\n",
    "        if len(t) < 2: continue\n",
    "        classes.append(t[0])\n",
    "        v = [float(x) for x in t[1: len(t) - 1]]\n",
    "        support.append(int(t[-1]))\n",
    "        class_names.append(t[0])\n",
    "        print(v)\n",
    "        plotMat.append(v)\n",
    "\n",
    "    print('plotMat: {0}'.format(plotMat))\n",
    "    print('support: {0}'.format(support))\n",
    "\n",
    "    xlabel = 'Metrics'\n",
    "    ylabel = 'Classes'\n",
    "    xticklabels = ['Precision', 'Recall', 'F1-score']\n",
    "    yticklabels = ['{0} ({1})'.format(class_names[idx], sup) for idx, sup  in enumerate(support)]\n",
    "    figure_width = 25\n",
    "    figure_height = len(class_names) + 7\n",
    "    correct_orientation = False\n",
    "    heatmap(np.array(plotMat), title, xlabel, ylabel, xticklabels, yticklabels, figure_width, figure_height, correct_orientation, cmap=cmap)\n"
   ]
  },
  {
   "cell_type": "code",
   "execution_count": 36,
   "id": "f2035fc3",
   "metadata": {
    "ExecuteTime": {
     "end_time": "2022-09-21T15:48:47.803573Z",
     "start_time": "2022-09-21T15:48:47.703603Z"
    }
   },
   "outputs": [
    {
     "name": "stderr",
     "output_type": "stream",
     "text": [
      "C:\\python\\lib\\site-packages\\sklearn\\metrics\\_classification.py:1334: UndefinedMetricWarning: Recall and F-score are ill-defined and being set to 0.0 in labels with no true samples. Use `zero_division` parameter to control this behavior.\n",
      "  _warn_prf(average, modifier, msg_start, len(result))\n",
      "C:\\python\\lib\\site-packages\\sklearn\\metrics\\_classification.py:1334: UndefinedMetricWarning: Recall and F-score are ill-defined and being set to 0.0 in labels with no true samples. Use `zero_division` parameter to control this behavior.\n",
      "  _warn_prf(average, modifier, msg_start, len(result))\n",
      "C:\\python\\lib\\site-packages\\sklearn\\metrics\\_classification.py:1334: UndefinedMetricWarning: Recall and F-score are ill-defined and being set to 0.0 in labels with no true samples. Use `zero_division` parameter to control this behavior.\n",
      "  _warn_prf(average, modifier, msg_start, len(result))\n"
     ]
    },
    {
     "ename": "ValueError",
     "evalue": "could not convert string to float: 'me'",
     "output_type": "error",
     "traceback": [
      "\u001b[1;31m---------------------------------------------------------------------------\u001b[0m",
      "\u001b[1;31mValueError\u001b[0m                                Traceback (most recent call last)",
      "Input \u001b[1;32mIn [36]\u001b[0m, in \u001b[0;36m<cell line: 2>\u001b[1;34m()\u001b[0m\n\u001b[0;32m      1\u001b[0m sampleClassificationReport\u001b[38;5;241m=\u001b[39m metrics\u001b[38;5;241m.\u001b[39mclassification_report(labels, pred)\n\u001b[1;32m----> 2\u001b[0m \u001b[43mplot_classification_report\u001b[49m\u001b[43m(\u001b[49m\u001b[43msampleClassificationReport\u001b[49m\u001b[43m)\u001b[49m\n",
      "Input \u001b[1;32mIn [35]\u001b[0m, in \u001b[0;36mplot_classification_report\u001b[1;34m(classification_report, title, cmap)\u001b[0m\n\u001b[0;32m    105\u001b[0m \u001b[38;5;28;01mif\u001b[39;00m \u001b[38;5;28mlen\u001b[39m(t) \u001b[38;5;241m<\u001b[39m \u001b[38;5;241m2\u001b[39m: \u001b[38;5;28;01mcontinue\u001b[39;00m\n\u001b[0;32m    106\u001b[0m classes\u001b[38;5;241m.\u001b[39mappend(t[\u001b[38;5;241m0\u001b[39m])\n\u001b[1;32m--> 107\u001b[0m v \u001b[38;5;241m=\u001b[39m [\u001b[38;5;28mfloat\u001b[39m(x) \u001b[38;5;28;01mfor\u001b[39;00m x \u001b[38;5;129;01min\u001b[39;00m t[\u001b[38;5;241m1\u001b[39m: \u001b[38;5;28mlen\u001b[39m(t) \u001b[38;5;241m-\u001b[39m \u001b[38;5;241m1\u001b[39m]]\n\u001b[0;32m    108\u001b[0m support\u001b[38;5;241m.\u001b[39mappend(\u001b[38;5;28mint\u001b[39m(t[\u001b[38;5;241m-\u001b[39m\u001b[38;5;241m1\u001b[39m]))\n\u001b[0;32m    109\u001b[0m class_names\u001b[38;5;241m.\u001b[39mappend(t[\u001b[38;5;241m0\u001b[39m])\n",
      "Input \u001b[1;32mIn [35]\u001b[0m, in \u001b[0;36m<listcomp>\u001b[1;34m(.0)\u001b[0m\n\u001b[0;32m    105\u001b[0m \u001b[38;5;28;01mif\u001b[39;00m \u001b[38;5;28mlen\u001b[39m(t) \u001b[38;5;241m<\u001b[39m \u001b[38;5;241m2\u001b[39m: \u001b[38;5;28;01mcontinue\u001b[39;00m\n\u001b[0;32m    106\u001b[0m classes\u001b[38;5;241m.\u001b[39mappend(t[\u001b[38;5;241m0\u001b[39m])\n\u001b[1;32m--> 107\u001b[0m v \u001b[38;5;241m=\u001b[39m [\u001b[38;5;28;43mfloat\u001b[39;49m\u001b[43m(\u001b[49m\u001b[43mx\u001b[49m\u001b[43m)\u001b[49m \u001b[38;5;28;01mfor\u001b[39;00m x \u001b[38;5;129;01min\u001b[39;00m t[\u001b[38;5;241m1\u001b[39m: \u001b[38;5;28mlen\u001b[39m(t) \u001b[38;5;241m-\u001b[39m \u001b[38;5;241m1\u001b[39m]]\n\u001b[0;32m    108\u001b[0m support\u001b[38;5;241m.\u001b[39mappend(\u001b[38;5;28mint\u001b[39m(t[\u001b[38;5;241m-\u001b[39m\u001b[38;5;241m1\u001b[39m]))\n\u001b[0;32m    109\u001b[0m class_names\u001b[38;5;241m.\u001b[39mappend(t[\u001b[38;5;241m0\u001b[39m])\n",
      "\u001b[1;31mValueError\u001b[0m: could not convert string to float: 'me'"
     ]
    }
   ],
   "source": [
    "sampleClassificationReport= metrics.classification_report(labels, pred)\n",
    "plot_classification_report(sampleClassificationReport)"
   ]
  },
  {
   "cell_type": "code",
   "execution_count": 40,
   "id": "1fcfd028",
   "metadata": {
    "ExecuteTime": {
     "end_time": "2022-09-21T15:51:29.072174Z",
     "start_time": "2022-09-21T15:51:29.047100Z"
    }
   },
   "outputs": [],
   "source": [
    "def plot_classification_report_2(cr, title='Classification report ', with_avg_total=False, cmap='YlGnBu'):\n",
    "\n",
    "    lines = cr.split('\\n')\n",
    "\n",
    "    classes = []\n",
    "    plotMat = []\n",
    "    for line in lines[2 : (len(lines) - 3)]:\n",
    "        #print(line)\n",
    "        t = line.split()\n",
    "        # print(t)\n",
    "        classes.append(t[0])\n",
    "        v = [float(x) for x in t[1: len(t) - 1]]\n",
    "        print(v)\n",
    "        plotMat.append(v)\n",
    "\n",
    "    if with_avg_total:\n",
    "        aveTotal = lines[len(lines) - 1].split()\n",
    "        classes.append('avg/total')\n",
    "        vAveTotal = [float(x) for x in t[1:len(aveTotal) - 1]]\n",
    "        plotMat.append(vAveTotal)\n",
    "\n",
    "\n",
    "    plt.imshow(plotMat, interpolation='nearest', cmap=cmap)\n",
    "    plt.title(title)\n",
    "    plt.colorbar()\n",
    "    x_tick_marks = np.arange(3)\n",
    "    y_tick_marks = np.arange(len(classes))\n",
    "    plt.xticks(x_tick_marks, ['precision', 'recall', 'f1-score'], rotation=45)\n",
    "    plt.yticks(y_tick_marks, classes)\n",
    "    plt.tight_layout()\n",
    "    plt.ylabel('Classes')\n",
    "    plt.xlabel('Measures')"
   ]
  },
  {
   "cell_type": "code",
   "execution_count": 41,
   "id": "625be6b1",
   "metadata": {
    "ExecuteTime": {
     "end_time": "2022-09-21T15:51:35.090813Z",
     "start_time": "2022-09-21T15:51:35.016650Z"
    }
   },
   "outputs": [
    {
     "name": "stderr",
     "output_type": "stream",
     "text": [
      "C:\\python\\lib\\site-packages\\sklearn\\metrics\\_classification.py:1334: UndefinedMetricWarning: Recall and F-score are ill-defined and being set to 0.0 in labels with no true samples. Use `zero_division` parameter to control this behavior.\n",
      "  _warn_prf(average, modifier, msg_start, len(result))\n",
      "C:\\python\\lib\\site-packages\\sklearn\\metrics\\_classification.py:1334: UndefinedMetricWarning: Recall and F-score are ill-defined and being set to 0.0 in labels with no true samples. Use `zero_division` parameter to control this behavior.\n",
      "  _warn_prf(average, modifier, msg_start, len(result))\n",
      "C:\\python\\lib\\site-packages\\sklearn\\metrics\\_classification.py:1334: UndefinedMetricWarning: Recall and F-score are ill-defined and being set to 0.0 in labels with no true samples. Use `zero_division` parameter to control this behavior.\n",
      "  _warn_prf(average, modifier, msg_start, len(result))\n"
     ]
    },
    {
     "ename": "ValueError",
     "evalue": "could not convert string to float: 'me'",
     "output_type": "error",
     "traceback": [
      "\u001b[1;31m---------------------------------------------------------------------------\u001b[0m",
      "\u001b[1;31mValueError\u001b[0m                                Traceback (most recent call last)",
      "Input \u001b[1;32mIn [41]\u001b[0m, in \u001b[0;36m<cell line: 2>\u001b[1;34m()\u001b[0m\n\u001b[0;32m      1\u001b[0m sampleClassificationReport\u001b[38;5;241m=\u001b[39m metrics\u001b[38;5;241m.\u001b[39mclassification_report(labels, pred)\n\u001b[1;32m----> 2\u001b[0m \u001b[43mplot_classification_report_2\u001b[49m\u001b[43m(\u001b[49m\u001b[43msampleClassificationReport\u001b[49m\u001b[43m)\u001b[49m\n",
      "Input \u001b[1;32mIn [40]\u001b[0m, in \u001b[0;36mplot_classification_report_2\u001b[1;34m(cr, title, with_avg_total, cmap)\u001b[0m\n\u001b[0;32m     10\u001b[0m \u001b[38;5;66;03m# print(t)\u001b[39;00m\n\u001b[0;32m     11\u001b[0m classes\u001b[38;5;241m.\u001b[39mappend(t[\u001b[38;5;241m0\u001b[39m])\n\u001b[1;32m---> 12\u001b[0m v \u001b[38;5;241m=\u001b[39m [\u001b[38;5;28mfloat\u001b[39m(x) \u001b[38;5;28;01mfor\u001b[39;00m x \u001b[38;5;129;01min\u001b[39;00m t[\u001b[38;5;241m1\u001b[39m: \u001b[38;5;28mlen\u001b[39m(t) \u001b[38;5;241m-\u001b[39m \u001b[38;5;241m1\u001b[39m]]\n\u001b[0;32m     13\u001b[0m \u001b[38;5;28mprint\u001b[39m(v)\n\u001b[0;32m     14\u001b[0m plotMat\u001b[38;5;241m.\u001b[39mappend(v)\n",
      "Input \u001b[1;32mIn [40]\u001b[0m, in \u001b[0;36m<listcomp>\u001b[1;34m(.0)\u001b[0m\n\u001b[0;32m     10\u001b[0m \u001b[38;5;66;03m# print(t)\u001b[39;00m\n\u001b[0;32m     11\u001b[0m classes\u001b[38;5;241m.\u001b[39mappend(t[\u001b[38;5;241m0\u001b[39m])\n\u001b[1;32m---> 12\u001b[0m v \u001b[38;5;241m=\u001b[39m [\u001b[38;5;28;43mfloat\u001b[39;49m\u001b[43m(\u001b[49m\u001b[43mx\u001b[49m\u001b[43m)\u001b[49m \u001b[38;5;28;01mfor\u001b[39;00m x \u001b[38;5;129;01min\u001b[39;00m t[\u001b[38;5;241m1\u001b[39m: \u001b[38;5;28mlen\u001b[39m(t) \u001b[38;5;241m-\u001b[39m \u001b[38;5;241m1\u001b[39m]]\n\u001b[0;32m     13\u001b[0m \u001b[38;5;28mprint\u001b[39m(v)\n\u001b[0;32m     14\u001b[0m plotMat\u001b[38;5;241m.\u001b[39mappend(v)\n",
      "\u001b[1;31mValueError\u001b[0m: could not convert string to float: 'me'"
     ]
    }
   ],
   "source": [
    "sampleClassificationReport= metrics.classification_report(labels, pred)\n",
    "plot_classification_report_2(sampleClassificationReport)"
   ]
  },
  {
   "cell_type": "code",
   "execution_count": null,
   "id": "c2f44116",
   "metadata": {},
   "outputs": [],
   "source": []
  }
 ],
 "metadata": {
  "kernelspec": {
   "display_name": "Python 3 (ipykernel)",
   "language": "python",
   "name": "python3"
  },
  "language_info": {
   "codemirror_mode": {
    "name": "ipython",
    "version": 3
   },
   "file_extension": ".py",
   "mimetype": "text/x-python",
   "name": "python",
   "nbconvert_exporter": "python",
   "pygments_lexer": "ipython3",
   "version": "3.10.1"
  },
  "toc": {
   "base_numbering": 1,
   "nav_menu": {},
   "number_sections": true,
   "sideBar": true,
   "skip_h1_title": false,
   "title_cell": "Table of Contents",
   "title_sidebar": "Contents",
   "toc_cell": false,
   "toc_position": {},
   "toc_section_display": true,
   "toc_window_display": false
  }
 },
 "nbformat": 4,
 "nbformat_minor": 5
}
